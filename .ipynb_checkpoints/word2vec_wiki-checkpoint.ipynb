{
 "cells": [
  {
   "cell_type": "code",
   "execution_count": 1,
   "metadata": {},
   "outputs": [],
   "source": [
    "import pandas as pd\n",
    "from gensim.models import word2vec \n",
    "\n",
    "import logging\n",
    "\n",
    "import sys\n",
    "import MeCab"
   ]
  },
  {
   "cell_type": "code",
   "execution_count": 10,
   "metadata": {},
   "outputs": [
    {
     "data": {
      "text/html": [
       "<style>.container { width:85% !important; }</style>"
      ],
      "text/plain": [
       "<IPython.core.display.HTML object>"
      ]
     },
     "metadata": {},
     "output_type": "display_data"
    }
   ],
   "source": [
    "#snssns..set_styleset_sty ('whitegrid')\n",
    "%matplotlib inline\n",
    "\n",
    "pd.set_option(\"display.max_columns\", 200) # 表示カラムの最大値\n",
    "pd.set_option('display.max_rows', 200) # 表示行数の最大値\n",
    "pd.set_option('display.max_colwidth', 30)\n",
    "pd.set_option(\"display.float_format\", '{:.3f}'.format) # 小数点以下の有効数字\n",
    "\n",
    "# jupyterの幅を自動調整\n",
    "from IPython.core.display import display, HTML\n",
    "display(HTML(\"<style>.container { width:85% !important; }</style>\"))"
   ]
  },
  {
   "cell_type": "markdown",
   "metadata": {},
   "source": [
    "# MeCab練習"
   ]
  },
  {
   "cell_type": "markdown",
   "metadata": {},
   "source": [
    "WindowsでMecab実装  \n",
    "参考：https://qiita.com/menon/items/f041b7c46543f38f78f7"
   ]
  },
  {
   "cell_type": "code",
   "execution_count": 3,
   "metadata": {},
   "outputs": [],
   "source": [
    "m = MeCab.Tagger(\"-Ochasen\")"
   ]
  },
  {
   "cell_type": "code",
   "execution_count": 6,
   "metadata": {},
   "outputs": [
    {
     "name": "stdout",
     "output_type": "stream",
     "text": [
      "青森\tアオモリ\t青森\t名詞-固有名詞-地域-一般\t\t\n",
      "県\tケン\t県\t名詞-接尾-地域\t\t\n",
      "平川\tヒラカワ\t平川\t名詞-固有名詞-地域-一般\t\t\n",
      "市\tシ\t市\t名詞-接尾-地域\t\t\n",
      "金\tキン\t金\t名詞-接尾-一般\t\t\n",
      "屋上\tオクジョウ\t屋上\t名詞-一般\t\t\n",
      "松元\tマツモト\t松元\t名詞-固有名詞-地域-一般\t\t\n",
      "EOS\n",
      "\n"
     ]
    }
   ],
   "source": [
    "print( m.parse( \"青森県平川市金屋上松元\" ))"
   ]
  },
  {
   "cell_type": "code",
   "execution_count": 7,
   "metadata": {},
   "outputs": [
    {
     "name": "stdout",
     "output_type": "stream",
     "text": [
      "KDDI\tKDDI\tKDDI\t名詞-固有名詞-組織\t\t\n",
      "は\tハ\tは\t助詞-係助詞\t\t\n",
      "、\t、\t、\t記号-読点\t\t\n",
      "2019\t2019\t2019\t名詞-数\t\t\n",
      "年\tネン\t年\t名詞-接尾-助数詞\t\t\n",
      "4\t4\t4\t名詞-数\t\t\n",
      "月\tツキ\t月\t名詞-一般\t\t\n",
      "1\t1\t1\t名詞-数\t\t\n",
      "日\tニチ\t日\t名詞-接尾-助数詞\t\t\n",
      "付\tヅケ\t付\t名詞-接尾-一般\t\t\n",
      "で\tデ\tで\t助詞-格助詞-一般\t\t\n",
      "、\t、\t、\t記号-読点\t\t\n",
      "以下\tイカ\t以下\t名詞-非自立-副詞可能\t\t\n",
      "の\tノ\tの\t助詞-連体化\t\t\n",
      "組織\tソシキ\t組織\t名詞-サ変接続\t\t\n",
      "変更\tヘンコウ\t変更\t名詞-サ変接続\t\t\n",
      "および\tオヨビ\tおよび\t接続詞\t\t\n",
      "人事\tジンジ\t人事\t名詞-一般\t\t\n",
      "異動\tイドウ\t異動\t名詞-サ変接続\t\t\n",
      "を\tヲ\tを\t助詞-格助詞-一般\t\t\n",
      "実施\tジッシ\t実施\t名詞-サ変接続\t\t\n",
      "し\tシ\tする\t動詞-自立\tサ変・スル\t連用形\n",
      "ます\tマス\tます\t助動詞\t特殊・マス\t基本形\n",
      "。\t。\t。\t記号-句点\t\t\n",
      "EOS\n",
      "\n"
     ]
    }
   ],
   "source": [
    "print( m.parse( \"KDDIは、2019年4月1日付で、以下の組織変更および人事異動を実施します。\" ))"
   ]
  },
  {
   "cell_type": "markdown",
   "metadata": {},
   "source": [
    "# Word2Vecの練習"
   ]
  },
  {
   "cell_type": "markdown",
   "metadata": {},
   "source": [
    "参考：https://qiita.com/kenta1984/items/93b64768494f971edf86"
   ]
  }
 ],
 "metadata": {
  "kernelspec": {
   "display_name": "Python 3",
   "language": "python",
   "name": "python3"
  },
  "language_info": {
   "codemirror_mode": {
    "name": "ipython",
    "version": 3
   },
   "file_extension": ".py",
   "mimetype": "text/x-python",
   "name": "python",
   "nbconvert_exporter": "python",
   "pygments_lexer": "ipython3",
   "version": "3.6.4"
  },
  "toc": {
   "base_numbering": 1,
   "nav_menu": {},
   "number_sections": true,
   "sideBar": true,
   "skip_h1_title": false,
   "title_cell": "Table of Contents",
   "title_sidebar": "Contents",
   "toc_cell": false,
   "toc_position": {
    "height": "calc(100% - 180px)",
    "left": "10px",
    "top": "150px",
    "width": "208px"
   },
   "toc_section_display": true,
   "toc_window_display": true
  }
 },
 "nbformat": 4,
 "nbformat_minor": 2
}
