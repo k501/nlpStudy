{
 "cells": [
  {
   "cell_type": "markdown",
   "metadata": {},
   "source": [
    "白ヤギのモデルを利用"
   ]
  },
  {
   "cell_type": "code",
   "execution_count": 58,
   "metadata": {},
   "outputs": [],
   "source": [
    "import pandas as pd\n",
    "import numpy as np\n",
    "\n",
    "import MeCab\n",
    "import gensim\n",
    "from gensim.models import word2vec\n",
    "\n",
    "import logging\n",
    "import sys"
   ]
  },
  {
   "cell_type": "code",
   "execution_count": 59,
   "metadata": {},
   "outputs": [
    {
     "data": {
      "text/html": [
       "<style>.container { width:85% !important; }</style>"
      ],
      "text/plain": [
       "<IPython.core.display.HTML object>"
      ]
     },
     "metadata": {},
     "output_type": "display_data"
    }
   ],
   "source": [
    "#snssns..set_styleset_sty ('whitegrid')\n",
    "%matplotlib inline\n",
    "\n",
    "pd.set_option(\"display.max_columns\", 200) # 表示カラムの最大値\n",
    "pd.set_option('display.max_rows', 200) # 表示行数の最大値\n",
    "pd.set_option('display.max_colwidth', 30)\n",
    "pd.set_option(\"display.float_format\", '{:.3f}'.format) # 小数点以下の有効数字\n",
    "\n",
    "# jupyterの幅を自動調整\n",
    "from IPython.core.display import display, HTML\n",
    "display(HTML(\"<style>.container { width:85% !important; }</style>\"))"
   ]
  },
  {
   "cell_type": "markdown",
   "metadata": {},
   "source": [
    "# モデル読み込み"
   ]
  },
  {
   "cell_type": "markdown",
   "metadata": {},
   "source": [
    "参照：　http://aial.shiroyagi.co.jp/2017/02/japanese-word2vec-model-builder/"
   ]
  },
  {
   "cell_type": "code",
   "execution_count": 7,
   "metadata": {},
   "outputs": [],
   "source": [
    "model_path = '02.model/word2vec.gensim.model'\n",
    "model = Word2Vec.load(model_path)"
   ]
  },
  {
   "cell_type": "markdown",
   "metadata": {},
   "source": [
    "# 単語／文章の類似度"
   ]
  },
  {
   "cell_type": "markdown",
   "metadata": {},
   "source": [
    "## 単語の類似度を算出"
   ]
  },
  {
   "cell_type": "code",
   "execution_count": 60,
   "metadata": {},
   "outputs": [
    {
     "name": "stdout",
     "output_type": "stream",
     "text": [
      "('武田信玄', 0.9536293745040894)\n",
      "('毛利元就', 0.9534527659416199)\n",
      "('今川義元', 0.9445849657058716)\n",
      "('織田信長', 0.9392962455749512)\n",
      "('長宗我部元親', 0.9386113882064819)\n",
      "('大友宗麟', 0.9382531046867371)\n",
      "('最上義光', 0.9372270107269287)\n",
      "('里見氏', 0.9340117573738098)\n",
      "('北条氏康', 0.9319975972175598)\n",
      "('大友氏', 0.928727388381958)\n"
     ]
    }
   ],
   "source": [
    "# 類似度の高い単語を表示\n",
    "for r in model.wv.most_similar(positive=['上杉謙信']):\n",
    "    print(r)"
   ]
  },
  {
   "cell_type": "markdown",
   "metadata": {},
   "source": [
    "## 文章の類似度を算出"
   ]
  },
  {
   "cell_type": "code",
   "execution_count": 67,
   "metadata": {},
   "outputs": [],
   "source": [
    "mt = MeCab.Tagger('')\n",
    "mt.parse('')\n",
    "\n",
    "# テキストのベクトルを計算\n",
    "def get_vector(text):\n",
    "    sum_vec = np.zeros(model.vector_size)\n",
    "    word_count = 0\n",
    "    node = mt.parseToNode(text)\n",
    "    \n",
    "    while node:\n",
    "        fields = node.feature.split(\",\")\n",
    "        # 名詞、動詞、形容詞に限定\n",
    "        if fields[0] == '名詞' or fields[0] == '動詞' or fields[0] == '形容詞':\n",
    "            sum_vec += model.wv[node.surface]\n",
    "            word_count += 1\n",
    "        node = node.next\n",
    "\n",
    "    return sum_vec / word_count\n",
    "\n",
    "# cos類似度を計算\n",
    "def cos_sim(v1, v2):\n",
    "    return np.dot(v1, v2) / (np.linalg.norm(v1) * np.linalg.norm(v2))\n"
   ]
  },
  {
   "cell_type": "code",
   "execution_count": 71,
   "metadata": {},
   "outputs": [
    {
     "name": "stdout",
     "output_type": "stream",
     "text": [
      "-0.060320016599344585\n",
      "0.7987708061912694\n",
      "-0.09940524226880823\n"
     ]
    }
   ],
   "source": [
    "if __name__ == \"__main__\":\n",
    "    v1 = get_vector('国内の物流大手がEVを本格導入するのは初めて。')\n",
    "    v2 = get_vector('徳川家康が江戸幕府をひらいた')\n",
    "    v3 = get_vector('国際物流大手の独ドイツポストDHLグループと、宅配便の配送に使う小型の電気自動車（EV）を共同開発する。')\n",
    "    \n",
    "    print(cos_sim(v1, v2))\n",
    "    print(cos_sim(v1, v3))\n",
    "    print(cos_sim(v2, v3))"
   ]
  },
  {
   "cell_type": "markdown",
   "metadata": {},
   "source": [
    "## 単語の増減を計算して類似度を算出"
   ]
  },
  {
   "cell_type": "code",
   "execution_count": 72,
   "metadata": {},
   "outputs": [
    {
     "data": {
      "text/plain": [
       "[('お姫様', 0.8531286716461182),\n",
       " ('花嫁', 0.839175820350647),\n",
       " ('野獣', 0.8315544128417969),\n",
       " ('魔女', 0.8298223614692688),\n",
       " ('乙女', 0.8235582113265991),\n",
       " ('愛する人', 0.8003491163253784),\n",
       " ('天国', 0.7905834913253784),\n",
       " ('悪魔', 0.7898155450820923),\n",
       " ('キューピッド', 0.7896509170532227),\n",
       " ('魔法使い', 0.788610577583313)]"
      ]
     },
     "execution_count": 72,
     "metadata": {},
     "output_type": "execute_result"
    }
   ],
   "source": [
    "model.wv.most_similar(positive=['王様','女性'],negative=['男性'])"
   ]
  },
  {
   "cell_type": "markdown",
   "metadata": {},
   "source": [
    "# トピックモデルの検証"
   ]
  },
  {
   "cell_type": "code",
   "execution_count": null,
   "metadata": {
    "collapsed": true
   },
   "outputs": [],
   "source": []
  }
 ],
 "metadata": {
  "kernelspec": {
   "display_name": "Python 3",
   "language": "python",
   "name": "python3"
  },
  "language_info": {
   "codemirror_mode": {
    "name": "ipython",
    "version": 3
   },
   "file_extension": ".py",
   "mimetype": "text/x-python",
   "name": "python",
   "nbconvert_exporter": "python",
   "pygments_lexer": "ipython3",
   "version": "3.6.4"
  },
  "toc": {
   "base_numbering": 1,
   "nav_menu": {},
   "number_sections": true,
   "sideBar": true,
   "skip_h1_title": false,
   "title_cell": "Table of Contents",
   "title_sidebar": "Contents",
   "toc_cell": false,
   "toc_position": {
    "height": "659px",
    "left": "0px",
    "right": "20px",
    "top": "107.988px",
    "width": "200px"
   },
   "toc_section_display": "block",
   "toc_window_display": true
  }
 },
 "nbformat": 4,
 "nbformat_minor": 2
}
