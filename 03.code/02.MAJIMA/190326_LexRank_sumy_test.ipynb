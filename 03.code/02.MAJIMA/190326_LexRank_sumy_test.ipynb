{
 "cells": [
  {
   "cell_type": "markdown",
   "metadata": {},
   "source": [
    "# 初期設定"
   ]
  },
  {
   "cell_type": "code",
   "execution_count": 7,
   "metadata": {
    "scrolled": true
   },
   "outputs": [
    {
     "name": "stdout",
     "output_type": "stream",
     "text": [
      "Collecting sumy\n",
      "  Downloading https://files.pythonhosted.org/packages/2f/0e/30ebd2fb0925537a3b2f9fccf0a13171ba557e9450b1702d278159d3c592/sumy-0.7.0-py2.py3-none-any.whl (78kB)\n",
      "Collecting tinysegmenter\n",
      "  Downloading https://files.pythonhosted.org/packages/9c/70/488895cb11e160b548c9ba5847c171b65b86a8ca1e54d206d55b2976bf7b/tinysegmenter-0.4.tar.gz\n",
      "Collecting Janome\n",
      "  Downloading https://files.pythonhosted.org/packages/a0/af/a57956e98b26beebc4efe20c3f5b482f0b4e091f546bfd90a96678da2f1c/Janome-0.3.7-py27.py3-none-any.whl (20.7MB)\n",
      "Requirement already satisfied: requests>=2.7.0 in c:\\users\\yohei.majima\\appdata\\local\\continuum\\anaconda3\\lib\\site-packages (from sumy) (2.18.4)\n",
      "Collecting docopt<0.7,>=0.6.1 (from sumy)\n",
      "  Downloading https://files.pythonhosted.org/packages/a2/55/8f8cab2afd404cf578136ef2cc5dfb50baa1761b68c9da1fb1e4eed343c9/docopt-0.6.2.tar.gz\n",
      "Requirement already satisfied: nltk>=3.0.2 in c:\\users\\yohei.majima\\appdata\\local\\continuum\\anaconda3\\lib\\site-packages (from sumy) (3.3)\n",
      "Collecting breadability>=0.1.20 (from sumy)\n",
      "  Downloading https://files.pythonhosted.org/packages/ad/2d/bb6c9b381e6b6a432aa2ffa8f4afdb2204f1ff97cfcc0766a5b7683fec43/breadability-0.1.20.tar.gz\n",
      "Requirement already satisfied: chardet<3.1.0,>=3.0.2 in c:\\users\\yohei.majima\\appdata\\local\\continuum\\anaconda3\\lib\\site-packages (from requests>=2.7.0->sumy) (3.0.4)\n",
      "Requirement already satisfied: idna<2.7,>=2.5 in c:\\users\\yohei.majima\\appdata\\local\\continuum\\anaconda3\\lib\\site-packages (from requests>=2.7.0->sumy) (2.6)\n",
      "Requirement already satisfied: urllib3<1.23,>=1.21.1 in c:\\users\\yohei.majima\\appdata\\local\\continuum\\anaconda3\\lib\\site-packages (from requests>=2.7.0->sumy) (1.22)\n",
      "Requirement already satisfied: certifi>=2017.4.17 in c:\\users\\yohei.majima\\appdata\\local\\continuum\\anaconda3\\lib\\site-packages (from requests>=2.7.0->sumy) (2019.3.9)\n",
      "Requirement already satisfied: six in c:\\users\\yohei.majima\\appdata\\local\\continuum\\anaconda3\\lib\\site-packages (from nltk>=3.0.2->sumy) (1.12.0)\n",
      "Requirement already satisfied: lxml>=2.0 in c:\\users\\yohei.majima\\appdata\\local\\continuum\\anaconda3\\lib\\site-packages (from breadability>=0.1.20->sumy) (4.2.1)\n",
      "Building wheels for collected packages: tinysegmenter, docopt, breadability\n",
      "  Building wheel for tinysegmenter (setup.py): started\n",
      "  Building wheel for tinysegmenter (setup.py): finished with status 'done'\n",
      "  Stored in directory: C:\\Users\\yohei.majima\\AppData\\Local\\pip\\Cache\\wheels\\68\\71\\2b\\6402196bf28012826e507ef7b99df6ebd98cce78bd99023471\n",
      "  Building wheel for docopt (setup.py): started\n",
      "  Building wheel for docopt (setup.py): finished with status 'done'\n",
      "  Stored in directory: C:\\Users\\yohei.majima\\AppData\\Local\\pip\\Cache\\wheels\\9b\\04\\dd\\7daf4150b6d9b12949298737de9431a324d4b797ffd63f526e\n",
      "  Building wheel for breadability (setup.py): started\n",
      "  Building wheel for breadability (setup.py): finished with status 'done'\n",
      "  Stored in directory: C:\\Users\\yohei.majima\\AppData\\Local\\pip\\Cache\\wheels\\5a\\4d\\a1\\510b12c5e65e0b2b3ce539b2af66da0fc57571e528924f4a52\n",
      "Successfully built tinysegmenter docopt breadability\n",
      "Installing collected packages: docopt, breadability, sumy, tinysegmenter, Janome\n",
      "Successfully installed Janome-0.3.7 breadability-0.1.20 docopt-0.6.2 sumy-0.7.0 tinysegmenter-0.4\n"
     ]
    }
   ],
   "source": [
    "! pip install sumy tinysegmenter Janome"
   ]
  },
  {
   "cell_type": "code",
   "execution_count": 19,
   "metadata": {},
   "outputs": [
    {
     "data": {
      "text/html": [
       "<style>.container { width:85% !important; }</style>"
      ],
      "text/plain": [
       "<IPython.core.display.HTML object>"
      ]
     },
     "metadata": {},
     "output_type": "display_data"
    }
   ],
   "source": [
    "#snssns..set_styleset_sty ('whitegrid')\n",
    "%matplotlib inline\n",
    "\n",
    "pd.set_option(\"display.max_columns\", 200) # 表示カラムの最大値\n",
    "pd.set_option('display.max_rows', 200) # 表示行数の最大値\n",
    "pd.set_option('display.max_colwidth', 30)\n",
    "pd.set_option(\"display.float_format\", '{:.3f}'.format) # 小数点以下の有効数字\n",
    "\n",
    "# jupyterの幅を自動調整\n",
    "from IPython.core.display import display, HTML\n",
    "display(HTML(\"<style>.container { width:85% !important; }</style>\"))"
   ]
  },
  {
   "cell_type": "markdown",
   "metadata": {},
   "source": [
    "## モデル読み込み"
   ]
  },
  {
   "cell_type": "code",
   "execution_count": 10,
   "metadata": {},
   "outputs": [
    {
     "name": "stdout",
     "output_type": "stream",
     "text": [
      "米カリフォルニア州クパチーノの本社で開いた発表会で最大の目玉となったのは、定額制の動画配信サービス「アップルTV＋（プラス）」だ。\n",
      "アップルも資金を出して著名な映画監督や俳優らと連携し、他の動画配信サービスでは見られない独自の映画や番組、ドキュメンタリーを制作する。会場にはスティーブン・スピルバーグ監督らも駆けつけ、制作への意欲を語った。\n",
      "米 カリフォルニア 州 クパチーノ 本社 開く 発表 会 最大 目玉 なる の 定額 制 動画 配信 サービス アップル TV + プラス。\n",
      "アップル 資金 出す 著名 映画 監督 俳優 ら 連携 する 他 動画 配信 サービス 見る られる 独自 映画 番組 ドキュメンタリー 制作 する 会場 スティーブン スピルバーグ 監督 ら 駆けつける 制作 意欲 語る。\n"
     ]
    }
   ],
   "source": [
    "from janome.analyzer import Analyzer\n",
    "from janome.charfilter import UnicodeNormalizeCharFilter, RegexReplaceCharFilter\n",
    "from janome.tokenizer import Tokenizer as JanomeTokenizer  # sumyのTokenizerと名前が被るため\n",
    "from janome.tokenfilter import POSKeepFilter, ExtractAttributeFilter\n",
    "\n",
    "text = \"\"\"米カリフォルニア州クパチーノの本社で開いた発表会で最大の目玉となったのは、定額制の動画配信サービス「アップルTV＋（プラス）」だ。\n",
    "アップルも資金を出して著名な映画監督や俳優らと連携し、他の動画配信サービスでは見られない独自の映画や番組、ドキュメンタリーを制作する。会場にはスティーブン・スピルバーグ監督らも駆けつけ、制作への意欲を語った。\n",
    "「アップルTV＋」はiPhoneなど同社製品の利用者を主なターゲットに100を超す国や地域で提供する。\n",
    "ティム・クック最高経営責任者（CEO）は「創造性豊かな人々を結集し、これまでにない新しいサービスを作り上げる」と語った。\n",
    "料金など詳細はサービス開始直前に発表するとの説明にとどめた。\n",
    "アップルは動画配信分野では後発だ。専業の米ネットフリックスが先行し、27言語に対応する配信体制に強みがある。契約数は世界で1億4000万件にのぼる。\n",
    "既存のコンテンツ企業も加わって競争が激しくなる見込みで、米ウォルト・ディズニーが19年後半にスタートさせる。アップルは世界で14億台を超える製品が強みとなる。\n",
    "同社は定額制のニュース配信サービス「アップルニュース＋」を同日から米国で始めた。\n",
    "専用のアプリケーションをダウンロードし、月9.99ドル（約1100円）を払えば経済紙「ウォール・ストリート・ジャーナル」や経済誌「フォーチュン」など300を超える新聞・雑誌が提供する記事を好きなだけ読める。\n",
    "有力誌「タイム」や「ニューヨーカー」、ファッション誌「ヴォーグ」、科学誌「ナショナルジオグラフィック」などが参加する。\n",
    "各コンテンツをそれぞれ個別に購入した場合は年8000ドルに相当するという。\n",
    "当初は米国とカナダでサービスを始め、オーストラリアや欧州に段階的にサービス地域を拡大する。\n",
    "アップルは同日、100を超える新作を定額で遊べるゲーム配信サービス「アップルアーケード」を19年秋に始めることも明らかにした。\n",
    "iPhone上の決済サービスの利便性を高めるため、米金融大手ゴールドマン・サックスなどと組んで独自のクレジットカード「アップルカード」を19年夏から米国で発行する計画も表明した。\"\"\"\n",
    "\n",
    "# 1行1文となっているため、改行コードで分離\n",
    "sentences = [t for t in text.split('\\n')]\n",
    "for i in range(2):\n",
    "    print(sentences[i])\n",
    "\n",
    "# 形態素解析器を作る\n",
    "analyzer = Analyzer(\n",
    "    [UnicodeNormalizeCharFilter(), RegexReplaceCharFilter(r'[(\\)「」、。]', ' ')],  # ()「」、。は全てスペースに置き換える\n",
    "    JanomeTokenizer(),\n",
    "    [POSKeepFilter(['名詞', '形容詞', '副詞', '動詞']), ExtractAttributeFilter('base_form')]  # 名詞・形容詞・副詞・動詞の原型のみ\n",
    ")\n",
    "\n",
    "# 抽出された単語をスペースで連結\n",
    "# 末尾の'。'は、この後使うtinysegmenterで文として分離させるため。\n",
    "corpus = [' '.join(analyzer.analyze(s)) + '。' for s in sentences]\n",
    "for i in range(2):\n",
    "    print(corpus[i])"
   ]
  },
  {
   "cell_type": "code",
   "execution_count": 11,
   "metadata": {},
   "outputs": [
    {
     "name": "stdout",
     "output_type": "stream",
     "text": [
      "既存のコンテンツ企業も加わって競争が激しくなる見込みで、米ウォルト・ディズニーが19年後半にスタートさせる。アップルは世界で14億台を超える製品が強みとなる。\n",
      "同社は定額制のニュース配信サービス「アップルニュース＋」を同日から米国で始めた。\n"
     ]
    }
   ],
   "source": [
    "from sumy.parsers.plaintext import PlaintextParser\n",
    "from sumy.nlp.tokenizers import Tokenizer\n",
    "from sumy.summarizers.lex_rank import LexRankSummarizer\n",
    "\n",
    "# 連結したcorpusを再度tinysegmenterでトークナイズさせる\n",
    "parser = PlaintextParser.from_string(''.join(corpus), Tokenizer('japanese'))\n",
    "\n",
    "# LexRankで要約を2文抽出\n",
    "summarizer = LexRankSummarizer()\n",
    "summarizer.stop_words = [' ']  # スペースも1単語として認識されるため、ストップワードにすることで除外する\n",
    "\n",
    "summary = summarizer(document=parser.document, sentences_count=2)\n",
    "\n",
    "# 元の文を表示\n",
    "for sentence in summary:\n",
    "    print(sentences[corpus.index(sentence.__str__())])"
   ]
  },
  {
   "cell_type": "code",
   "execution_count": null,
   "metadata": {},
   "outputs": [],
   "source": []
  }
 ],
 "metadata": {
  "kernelspec": {
   "display_name": "Python 3",
   "language": "python",
   "name": "python3"
  },
  "language_info": {
   "codemirror_mode": {
    "name": "ipython",
    "version": 3
   },
   "file_extension": ".py",
   "mimetype": "text/x-python",
   "name": "python",
   "nbconvert_exporter": "python",
   "pygments_lexer": "ipython3",
   "version": "3.6.5"
  },
  "toc": {
   "base_numbering": 1,
   "nav_menu": {},
   "number_sections": true,
   "sideBar": true,
   "skip_h1_title": false,
   "title_cell": "Table of Contents",
   "title_sidebar": "Contents",
   "toc_cell": false,
   "toc_position": {
    "height": "659px",
    "left": "0px",
    "right": "20px",
    "top": "107.988px",
    "width": "200px"
   },
   "toc_section_display": "block",
   "toc_window_display": true
  }
 },
 "nbformat": 4,
 "nbformat_minor": 2
}
